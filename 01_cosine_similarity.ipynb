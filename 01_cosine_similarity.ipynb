{
 "cells": [
  {
   "cell_type": "code",
   "id": "initial_id",
   "metadata": {
    "collapsed": true,
    "ExecuteTime": {
     "end_time": "2024-09-24T15:29:15.469027Z",
     "start_time": "2024-09-24T15:29:15.223448Z"
    }
   },
   "source": [
    "!pip install requests\n",
    "!pip install numpy\n",
    "\n",
    "import numpy as np\n",
    "from utils.jina_client import Client\n",
    "from utils.documents import job_ad_texts, cv_texts\n",
    "client = Client(api_key='your api key for jina.ai')"
   ],
   "outputs": [],
   "execution_count": 1
  },
  {
   "metadata": {},
   "cell_type": "markdown",
   "source": [
    "## Getting Embeddings\n",
    "\n",
    "We will use the jina embeddings (technically, it is best to optimize your embedding model to your dataset, however, we will not go into depth here)"
   ],
   "id": "10fdff4449c41368"
  },
  {
   "metadata": {},
   "cell_type": "code",
   "outputs": [],
   "execution_count": 2,
   "source": [
    "job_ad_embeddings = np.array(client.get_embeddings(input=job_ad_texts))\n",
    "cv_embeddings = np.array(client.get_embeddings(input=cv_texts))"
   ],
   "id": "da9824be9accec24"
  },
  {
   "metadata": {},
   "cell_type": "markdown",
   "source": [
    "## Cosine Similarity\n",
    "\n",
    "If the embedding vectors are normalized, then cosine similarity is the same as dot product. We will use this fact to compute the cosine similarity between each job ad and each CV. Using this, tell me:\n",
    "\n",
    "1) Who are the best candidates for each job?\n",
    "2) Can you assign a score?\n",
    "3) Are there surprises? Are they desirable?\n",
    "4) Can you test for gender bias?"
   ],
   "id": "a4a5255a9ca01242"
  },
  {
   "metadata": {},
   "cell_type": "code",
   "outputs": [],
   "execution_count": null,
   "source": "",
   "id": "25772aa831e81c3d"
  },
  {
   "metadata": {},
   "cell_type": "markdown",
   "source": [
    "## Extra: Segmentation\n",
    "Maybe embedding the whole CV is not the right thing. You can segment it, using their segmenter (how exactly this is done/should be done is up to a much longer discussion) "
   ],
   "id": "11180a67cd955631"
  },
  {
   "metadata": {
    "ExecuteTime": {
     "end_time": "2024-09-24T15:29:27.339565Z",
     "start_time": "2024-09-24T15:29:26.415490Z"
    }
   },
   "cell_type": "code",
   "source": "segmentation_results = client.get_segmentation(content=cv_texts[0])",
   "id": "34acf28d430d06b4",
   "outputs": [],
   "execution_count": 9
  }
 ],
 "metadata": {
  "kernelspec": {
   "display_name": "Python 3",
   "language": "python",
   "name": "python3"
  },
  "language_info": {
   "codemirror_mode": {
    "name": "ipython",
    "version": 2
   },
   "file_extension": ".py",
   "mimetype": "text/x-python",
   "name": "python",
   "nbconvert_exporter": "python",
   "pygments_lexer": "ipython2",
   "version": "2.7.6"
  }
 },
 "nbformat": 4,
 "nbformat_minor": 5
}
