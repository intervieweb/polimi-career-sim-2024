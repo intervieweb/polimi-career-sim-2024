{
 "cells": [
  {
   "metadata": {},
   "cell_type": "markdown",
   "source": [
    "# Explaining to the user why the CV was ranked high.\n",
    "\n",
    "Note: this is not a real explainability: we are just helping the user to decide if this is reasonable.\n",
    "\n",
    "For this exercise you will use Groq API [we will give you a temporary key]"
   ],
   "id": "f05e7eae35c0fbd1"
  },
  {
   "metadata": {
    "ExecuteTime": {
     "end_time": "2024-10-03T09:17:09.466162Z",
     "start_time": "2024-10-03T09:17:09.298378Z"
    }
   },
   "cell_type": "code",
   "source": [
    "!pip install requests\n",
    "!pip install numpy\n",
    "!pip install groq\n",
    "\n",
    "from utils.documents import job_ad_texts, cv_texts\n",
    "from groq import Groq\n",
    "from IPython.display import Markdown\n"
   ],
   "id": "a57947c0372b463d",
   "outputs": [],
   "execution_count": 2
  },
  {
   "metadata": {
    "ExecuteTime": {
     "end_time": "2024-10-03T09:17:10.298311Z",
     "start_time": "2024-10-03T09:17:10.259656Z"
    }
   },
   "cell_type": "code",
   "source": "groq_client = Groq(api_key=\"your groq API key\")",
   "id": "e1c3cc0786d2a938",
   "outputs": [],
   "execution_count": 3
  },
  {
   "metadata": {},
   "cell_type": "markdown",
   "source": [
    "## Trying a simple human friendly explanation...\n",
    "\n",
    "1) Is it stable? (under reruns, parameter changes, etc)\n",
    "2) Is it useful? Do you agree?\n",
    "3) Is consistency necessary?\n",
    "4) Can you use the response to get a score?\n",
    "\n",
    "try different size of the model:\n",
    "\n",
    "for example: ```model=\"llama-3.1-8b-instant\"```,```model=\"llama-3.1-70b-versatile\"```\n",
    "\n",
    "try different top_k, temperature. "
   ],
   "id": "68f0d774f37d7e70"
  },
  {
   "metadata": {
    "ExecuteTime": {
     "end_time": "2024-10-03T09:18:53.595898Z",
     "start_time": "2024-10-03T09:18:53.593334Z"
    }
   },
   "cell_type": "code",
   "source": [
    "messages = [{\n",
    "    \"role\": \"user\",\n",
    "    \"content\": f\"Can you explain to the user why the CV was ranked high: {cv_texts[3]} given the text of the job ad: {job_ad_texts[0]}\\n Give a list of three points in favour of the candidate and a list of items that are missing (if any). Make each point at most a sentence long.\"\n",
    "}]"
   ],
   "id": "237e8ffcae276cc1",
   "outputs": [],
   "execution_count": 7
  },
  {
   "metadata": {
    "ExecuteTime": {
     "end_time": "2024-10-03T09:17:16.137222Z",
     "start_time": "2024-10-03T09:17:14.037975Z"
    }
   },
   "cell_type": "code",
   "source": "answer_8b = groq_client.chat.completions.create(messages=messages, model=\"llama-3.1-8b-instant\", temperature=0.25, max_tokens=1024)",
   "id": "c1b967afb3526d3c",
   "outputs": [],
   "execution_count": 5
  },
  {
   "metadata": {
    "ExecuteTime": {
     "end_time": "2024-10-03T09:17:16.142780Z",
     "start_time": "2024-10-03T09:17:16.138146Z"
    }
   },
   "cell_type": "code",
   "source": "Markdown(answer_8b.choices[0].message.content)",
   "id": "5d1686190c9e66b9",
   "outputs": [
    {
     "data": {
      "text/plain": [
       "<IPython.core.display.Markdown object>"
      ],
      "text/markdown": "**Three points in favor of the candidate:**\n\n1. Emily Johnson has 8 years of experience in back-end development, specializing in Python and Django, which aligns well with the job requirements.\n2. She has experience with NLP techniques, including reranker, and has implemented recommendation systems, which are relevant to the job's requirements for NLP and Generative AI features.\n3. Emily has a strong ability to develop efficient and scalable solutions, and has experience with Agile methodologies, which is essential for the role's collaborative and fast-paced environment.\n\n**Items that are missing:**\n\n1. **Direct experience with vector databases**: While Emily has experience with databases, there is no mention of her working with vector databases, which is a specific requirement for the job.\n2. **Experience with front-end development**: Although Emily has experience working with cross-functional teams, there is no mention of her direct experience with front-end development, which is a requirement for the job.\n3. **Specific experience with Generative AI**: While Emily has completed a Generative AI intermediate course, there is no mention of her practical experience with Generative AI, which is a key requirement for the job.\n4. **Direct experience with HR software or systems**: Emily's experience is primarily in building web applications and APIs, but there is no mention of her working with HR software or systems, which is a key aspect of the job.\n5. **Availability for a hybrid work model**: While Emily's location is listed as Seattle, WA, there is no mention of her availability for a hybrid work model, which is a requirement for the job."
     },
     "execution_count": 6,
     "metadata": {},
     "output_type": "execute_result"
    }
   ],
   "execution_count": 6
  }
 ],
 "metadata": {
  "kernelspec": {
   "display_name": "Python 3",
   "language": "python",
   "name": "python3"
  },
  "language_info": {
   "codemirror_mode": {
    "name": "ipython",
    "version": 2
   },
   "file_extension": ".py",
   "mimetype": "text/x-python",
   "name": "python",
   "nbconvert_exporter": "python",
   "pygments_lexer": "ipython2",
   "version": "2.7.6"
  }
 },
 "nbformat": 4,
 "nbformat_minor": 5
}
