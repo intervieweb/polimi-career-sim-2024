{
 "cells": [
  {
   "cell_type": "code",
   "id": "initial_id",
   "metadata": {
    "collapsed": true,
    "ExecuteTime": {
     "end_time": "2024-09-24T15:47:27.456993Z",
     "start_time": "2024-09-24T15:47:27.061905Z"
    }
   },
   "source": [
    "!pip install requests\n",
    "!pip install numpy\n",
    "\n",
    "from utils.jina_client import Client\n",
    "from utils.documents import job_ad_texts, cv_texts\n",
    "\n",
    "client = Client()"
   ],
   "outputs": [],
   "execution_count": 2
  },
  {
   "metadata": {},
   "cell_type": "markdown",
   "source": [
    "# Reranker\n",
    "\n",
    "Rerankers are designed to take a set of documents and evaluate their match with a target document. Out comes a score.\n",
    "\n",
    "Answer the same questions:\n",
    "\n",
    "1) Who are the best candidates for each job?\n",
    "2) Can you assign a score?\n",
    "3) Are there surprises? Are they desirable?\n",
    "4) Can you test for gender bias?\n",
    "\n",
    "But also more:\n",
    "\n",
    "5) Are these results better than the ones from cosine similarity?\n",
    "6) How are they dependent on the prompt?"
   ],
   "id": "866f00f855f6b5b7"
  },
  {
   "metadata": {
    "ExecuteTime": {
     "end_time": "2024-09-24T15:47:29.956471Z",
     "start_time": "2024-09-24T15:47:28.798941Z"
    }
   },
   "cell_type": "code",
   "source": [
    "prompt = \"\"\n",
    "\n",
    "answer_job_01 = client.call_reranker(query=prompt + job_ad_texts[0],documents=cv_texts,top_n=6)"
   ],
   "id": "e31144035a1609e4",
   "outputs": [],
   "execution_count": 3
  }
 ],
 "metadata": {
  "kernelspec": {
   "display_name": "Python 3",
   "language": "python",
   "name": "python3"
  },
  "language_info": {
   "codemirror_mode": {
    "name": "ipython",
    "version": 2
   },
   "file_extension": ".py",
   "mimetype": "text/x-python",
   "name": "python",
   "nbconvert_exporter": "python",
   "pygments_lexer": "ipython2",
   "version": "2.7.6"
  }
 },
 "nbformat": 4,
 "nbformat_minor": 5
}
